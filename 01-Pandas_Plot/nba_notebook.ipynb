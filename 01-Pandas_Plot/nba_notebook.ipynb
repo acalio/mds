{
 "cells": [
  {
   "cell_type": "markdown",
   "metadata": {},
   "source": [
    "# Practicing with Pandas\n",
    "\n",
    "----\n",
    "Import the necessary libraries\n"
   ]
  },
  {
   "cell_type": "code",
   "execution_count": 2,
   "metadata": {
    "jupyter": {
     "outputs_hidden": false
    }
   },
   "outputs": [],
   "source": [
    "from pandas import DataFrame, Series\n",
    "from io import StringIO \n",
    "import pandas as pd\n",
    "import numpy as np\n",
    "import os\n",
    "\n",
    "from IPython.display import Image\n",
    "IMG_PATH, DATA_PATH = \"./img\", \"./data\"\n",
    "\n",
    "\n",
    "def describe(a):\n",
    "    if type(a) is np.ndarray:\n",
    "        print(\"data:\\n{}\\nshape:{}\\ndtype:{}\\ntype: {}\".format(a, a.shape, a.dtype, type(a)))\n",
    "    elif type(a) is pd.Series:\n",
    "        print(\"data:\\n{}\\nshape:{}\\ndtype:{}\\nname:{}\\nindex-name:{}\\ntype:{}\".format(a, a.shape, a.dtype, a.name, a.index.name, type(a)))\n",
    "    elif type(a) is pd.DataFrame:\n",
    "        print(\"data:\\n{}\\nshape:{}\\ntype:{}\".format(a, a.shape,type(a)))\n",
    "    else:\n",
    "        print(\"{}, type:{}\".format(a, type(a)))\n",
    "\n",
    "\n",
    "hrule = lambda x : \"=\"*x\n",
    "Hrule = lambda x,y: \"=\"*(x//2)+y+\"=\"*(x//2)\n",
    "Data = lambda file : os.path.join(DATA_PATH, file)\n",
    "Img  = lambda img : os.path.join(IMG_PATH, img)"
   ]
  },
  {
   "cell_type": "markdown",
   "metadata": {},
   "source": [
    "---\n",
    "\n",
    "Download the dataset at the given url"
   ]
  },
  {
   "cell_type": "code",
   "execution_count": 1,
   "metadata": {
    "jupyter": {
     "outputs_hidden": false
    }
   },
   "outputs": [],
   "source": [
    "url = \"https://raw.githubusercontent.com/acalio/Data-Mining-Course/master/Lecture%203/data/nba.csv\""
   ]
  },
  {
   "cell_type": "code",
   "execution_count": 32,
   "metadata": {
    "jupyter": {
     "outputs_hidden": false
    }
   },
   "outputs": [
    {
     "data": {
      "text/html": [
       "<div>\n",
       "<style scoped>\n",
       "    .dataframe tbody tr th:only-of-type {\n",
       "        vertical-align: middle;\n",
       "    }\n",
       "\n",
       "    .dataframe tbody tr th {\n",
       "        vertical-align: top;\n",
       "    }\n",
       "\n",
       "    .dataframe thead th {\n",
       "        text-align: right;\n",
       "    }\n",
       "</style>\n",
       "<table border=\"1\" class=\"dataframe\">\n",
       "  <thead>\n",
       "    <tr style=\"text-align: right;\">\n",
       "      <th></th>\n",
       "      <th>Unnamed: 0</th>\n",
       "      <th>Rk</th>\n",
       "      <th>PLAYER</th>\n",
       "      <th>POSITION</th>\n",
       "      <th>AGE</th>\n",
       "      <th>MP</th>\n",
       "      <th>FG</th>\n",
       "      <th>FGA</th>\n",
       "      <th>FG%</th>\n",
       "      <th>3P</th>\n",
       "      <th>...</th>\n",
       "      <th>STL</th>\n",
       "      <th>BLK</th>\n",
       "      <th>TOV</th>\n",
       "      <th>PF</th>\n",
       "      <th>POINTS</th>\n",
       "      <th>TEAM</th>\n",
       "      <th>GP</th>\n",
       "      <th>MPG</th>\n",
       "      <th>W</th>\n",
       "      <th>SALARY_MILLIONS</th>\n",
       "    </tr>\n",
       "  </thead>\n",
       "  <tbody>\n",
       "    <tr>\n",
       "      <th>0</th>\n",
       "      <td>0</td>\n",
       "      <td>1</td>\n",
       "      <td>Russell Westbrook</td>\n",
       "      <td>PG</td>\n",
       "      <td>28</td>\n",
       "      <td>34.6</td>\n",
       "      <td>10.2</td>\n",
       "      <td>24.0</td>\n",
       "      <td>425.00</td>\n",
       "      <td>2.5</td>\n",
       "      <td>...</td>\n",
       "      <td>1.6</td>\n",
       "      <td>0.4</td>\n",
       "      <td>5.4</td>\n",
       "      <td>2.3</td>\n",
       "      <td>31.6</td>\n",
       "      <td>OKC</td>\n",
       "      <td>81</td>\n",
       "      <td>34.6</td>\n",
       "      <td>46</td>\n",
       "      <td>26.50</td>\n",
       "    </tr>\n",
       "    <tr>\n",
       "      <th>1</th>\n",
       "      <td>1</td>\n",
       "      <td>2</td>\n",
       "      <td>James Harden</td>\n",
       "      <td>PG</td>\n",
       "      <td>27</td>\n",
       "      <td>36.4</td>\n",
       "      <td>8.3</td>\n",
       "      <td>18.9</td>\n",
       "      <td>0.44</td>\n",
       "      <td>3.2</td>\n",
       "      <td>...</td>\n",
       "      <td>1.5</td>\n",
       "      <td>0.5</td>\n",
       "      <td>5.7</td>\n",
       "      <td>2.7</td>\n",
       "      <td>29.1</td>\n",
       "      <td>HOU</td>\n",
       "      <td>81</td>\n",
       "      <td>36.4</td>\n",
       "      <td>54</td>\n",
       "      <td>26.50</td>\n",
       "    </tr>\n",
       "    <tr>\n",
       "      <th>2</th>\n",
       "      <td>2</td>\n",
       "      <td>3</td>\n",
       "      <td>Isaiah Thomas</td>\n",
       "      <td>PG</td>\n",
       "      <td>27</td>\n",
       "      <td>33.8</td>\n",
       "      <td>9.0</td>\n",
       "      <td>19.4</td>\n",
       "      <td>463.00</td>\n",
       "      <td>3.2</td>\n",
       "      <td>...</td>\n",
       "      <td>0.9</td>\n",
       "      <td>0.2</td>\n",
       "      <td>2.8</td>\n",
       "      <td>2.2</td>\n",
       "      <td>28.9</td>\n",
       "      <td>BOS</td>\n",
       "      <td>76</td>\n",
       "      <td>33.8</td>\n",
       "      <td>51</td>\n",
       "      <td>6.59</td>\n",
       "    </tr>\n",
       "    <tr>\n",
       "      <th>3</th>\n",
       "      <td>3</td>\n",
       "      <td>4</td>\n",
       "      <td>Anthony Davis</td>\n",
       "      <td>C</td>\n",
       "      <td>23</td>\n",
       "      <td>36.1</td>\n",
       "      <td>10.3</td>\n",
       "      <td>20.3</td>\n",
       "      <td>505.00</td>\n",
       "      <td>0.5</td>\n",
       "      <td>...</td>\n",
       "      <td>1.3</td>\n",
       "      <td>2.2</td>\n",
       "      <td>2.4</td>\n",
       "      <td>2.2</td>\n",
       "      <td>28.0</td>\n",
       "      <td>NO</td>\n",
       "      <td>75</td>\n",
       "      <td>36.1</td>\n",
       "      <td>31</td>\n",
       "      <td>22.12</td>\n",
       "    </tr>\n",
       "    <tr>\n",
       "      <th>4</th>\n",
       "      <td>4</td>\n",
       "      <td>6</td>\n",
       "      <td>DeMarcus Cousins</td>\n",
       "      <td>C</td>\n",
       "      <td>26</td>\n",
       "      <td>34.2</td>\n",
       "      <td>9.0</td>\n",
       "      <td>19.9</td>\n",
       "      <td>452.00</td>\n",
       "      <td>1.8</td>\n",
       "      <td>...</td>\n",
       "      <td>1.4</td>\n",
       "      <td>1.3</td>\n",
       "      <td>3.7</td>\n",
       "      <td>3.9</td>\n",
       "      <td>27.0</td>\n",
       "      <td>NO/SAC</td>\n",
       "      <td>72</td>\n",
       "      <td>34.2</td>\n",
       "      <td>30</td>\n",
       "      <td>16.96</td>\n",
       "    </tr>\n",
       "  </tbody>\n",
       "</table>\n",
       "<p>5 rows × 33 columns</p>\n",
       "</div>"
      ],
      "text/plain": [
       "   Unnamed: 0  Rk             PLAYER POSITION  AGE    MP    FG   FGA     FG%  \\\n",
       "0           0   1  Russell Westbrook       PG   28  34.6  10.2  24.0  425.00   \n",
       "1           1   2       James Harden       PG   27  36.4   8.3  18.9    0.44   \n",
       "2           2   3      Isaiah Thomas       PG   27  33.8   9.0  19.4  463.00   \n",
       "3           3   4      Anthony Davis        C   23  36.1  10.3  20.3  505.00   \n",
       "4           4   6   DeMarcus Cousins        C   26  34.2   9.0  19.9  452.00   \n",
       "\n",
       "    3P       ...         STL  BLK  TOV   PF  POINTS    TEAM  GP   MPG   W  \\\n",
       "0  2.5       ...         1.6  0.4  5.4  2.3    31.6     OKC  81  34.6  46   \n",
       "1  3.2       ...         1.5  0.5  5.7  2.7    29.1     HOU  81  36.4  54   \n",
       "2  3.2       ...         0.9  0.2  2.8  2.2    28.9     BOS  76  33.8  51   \n",
       "3  0.5       ...         1.3  2.2  2.4  2.2    28.0      NO  75  36.1  31   \n",
       "4  1.8       ...         1.4  1.3  3.7  3.9    27.0  NO/SAC  72  34.2  30   \n",
       "\n",
       "   SALARY_MILLIONS  \n",
       "0            26.50  \n",
       "1            26.50  \n",
       "2             6.59  \n",
       "3            22.12  \n",
       "4            16.96  \n",
       "\n",
       "[5 rows x 33 columns]"
      ]
     },
     "execution_count": 32,
     "metadata": {},
     "output_type": "execute_result"
    }
   ],
   "source": [
    "df = pd.read_csv(Data('nba.csv'))\n",
    "df.head()"
   ]
  },
  {
   "cell_type": "markdown",
   "metadata": {},
   "source": [
    "Remove the nasty ``Unnamed: 0`` column."
   ]
  },
  {
   "cell_type": "code",
   "execution_count": null,
   "metadata": {
    "jupyter": {
     "outputs_hidden": false
    }
   },
   "outputs": [],
   "source": []
  },
  {
   "cell_type": "markdown",
   "metadata": {},
   "source": [
    "---\n",
    "What is the shape of the dataframe? Which are the dtypes of the columns?"
   ]
  },
  {
   "cell_type": "code",
   "execution_count": null,
   "metadata": {
    "jupyter": {
     "outputs_hidden": false
    }
   },
   "outputs": [],
   "source": []
  },
  {
   "cell_type": "markdown",
   "metadata": {},
   "source": [
    "Print the name of all the columns"
   ]
  },
  {
   "cell_type": "code",
   "execution_count": null,
   "metadata": {
    "jupyter": {
     "outputs_hidden": false
    }
   },
   "outputs": [],
   "source": []
  },
  {
   "cell_type": "markdown",
   "metadata": {},
   "source": [
    "Divide the DataFrame into two dataframes:\n",
    "1. with non-numerical data\n",
    "2. with numerical data"
   ]
  },
  {
   "cell_type": "code",
   "execution_count": null,
   "metadata": {
    "jupyter": {
     "outputs_hidden": false
    }
   },
   "outputs": [],
   "source": []
  },
  {
   "cell_type": "markdown",
   "metadata": {},
   "source": [
    "Check if the dataframe contains missing data"
   ]
  },
  {
   "cell_type": "code",
   "execution_count": null,
   "metadata": {
    "jupyter": {
     "outputs_hidden": false
    }
   },
   "outputs": [],
   "source": []
  },
  {
   "cell_type": "markdown",
   "metadata": {},
   "source": [
    "Display summary statistics"
   ]
  },
  {
   "cell_type": "code",
   "execution_count": null,
   "metadata": {
    "jupyter": {
     "outputs_hidden": false
    }
   },
   "outputs": [],
   "source": []
  },
  {
   "cell_type": "markdown",
   "metadata": {},
   "source": [
    "Sort the dataframe in descending order wrt to the columns ``SALARY_MILLIONS``"
   ]
  },
  {
   "cell_type": "code",
   "execution_count": null,
   "metadata": {
    "jupyter": {
     "outputs_hidden": false
    }
   },
   "outputs": [],
   "source": []
  },
  {
   "cell_type": "markdown",
   "metadata": {},
   "source": [
    "Sort the dataframe in descending order wrt to the column `SALARY_MILLIONS`(decreasing)  and `AGE` (increasing).\n"
   ]
  },
  {
   "cell_type": "code",
   "execution_count": null,
   "metadata": {
    "jupyter": {
     "outputs_hidden": false
    }
   },
   "outputs": [],
   "source": []
  },
  {
   "cell_type": "markdown",
   "metadata": {},
   "source": [
    "Return the top-10 highest payed athletes.\n",
    "\n",
    "I only need the `PLAYER` column"
   ]
  },
  {
   "cell_type": "code",
   "execution_count": null,
   "metadata": {
    "jupyter": {
     "outputs_hidden": false
    }
   },
   "outputs": [],
   "source": []
  },
  {
   "cell_type": "markdown",
   "metadata": {},
   "source": [
    "The list of all the different teams"
   ]
  },
  {
   "cell_type": "code",
   "execution_count": null,
   "metadata": {
    "jupyter": {
     "outputs_hidden": false
    }
   },
   "outputs": [],
   "source": []
  },
  {
   "cell_type": "markdown",
   "metadata": {},
   "source": [
    "I want to be able to execute the following query:\n",
    "```\n",
    "df.loc['GS']\n",
    "```\n",
    "It has to return all the players in lex order"
   ]
  },
  {
   "cell_type": "code",
   "execution_count": null,
   "metadata": {
    "jupyter": {
     "outputs_hidden": false
    }
   },
   "outputs": [],
   "source": []
  },
  {
   "cell_type": "markdown",
   "metadata": {},
   "source": [
    "I want to obtain a pandas Series with the name of a team as index and the number of player\n",
    "for that team as value."
   ]
  },
  {
   "cell_type": "code",
   "execution_count": null,
   "metadata": {
    "jupyter": {
     "outputs_hidden": false
    }
   },
   "outputs": [],
   "source": []
  },
  {
   "cell_type": "markdown",
   "metadata": {},
   "source": [
    "Return all the rows with at least one missing value"
   ]
  },
  {
   "cell_type": "code",
   "execution_count": null,
   "metadata": {
    "jupyter": {
     "outputs_hidden": false
    }
   },
   "outputs": [],
   "source": []
  },
  {
   "cell_type": "markdown",
   "metadata": {},
   "source": [
    "Think about whether dropping these value seems to be a reasonable choice or not."
   ]
  },
  {
   "cell_type": "code",
   "execution_count": null,
   "metadata": {
    "jupyter": {
     "outputs_hidden": false
    }
   },
   "outputs": [],
   "source": []
  },
  {
   "cell_type": "markdown",
   "metadata": {},
   "source": [
    "Get all the duplicated rows"
   ]
  },
  {
   "cell_type": "code",
   "execution_count": null,
   "metadata": {
    "jupyter": {
     "outputs_hidden": false
    }
   },
   "outputs": [],
   "source": []
  },
  {
   "cell_type": "markdown",
   "metadata": {},
   "source": [
    "Remove the duplicated rows while keeping their first occurrence"
   ]
  },
  {
   "cell_type": "code",
   "execution_count": null,
   "metadata": {
    "jupyter": {
     "outputs_hidden": false
    }
   },
   "outputs": [],
   "source": []
  },
  {
   "cell_type": "markdown",
   "metadata": {},
   "source": [
    "Substitute each position with a number. \n",
    "Specifically:\n",
    "```\n",
    "PG -> 1, C->5, SF->3 SG->2 PF->4 PF-C->5\n",
    "```"
   ]
  },
  {
   "cell_type": "code",
   "execution_count": null,
   "metadata": {
    "jupyter": {
     "outputs_hidden": false
    }
   },
   "outputs": [],
   "source": []
  },
  {
   "cell_type": "markdown",
   "metadata": {},
   "source": [
    "Add a new column which contains the full name of each team.\n",
    "\n",
    "Name the new column `FULL_TEAM`. \n",
    "\n",
    "Example:\n",
    "``\n",
    "df['FULL_TEAM'] = Golden State Warriors if TEAM == GS, Chicaco Bulls if TEAM == CHI ....\n",
    "``\n",
    "\n"
   ]
  },
  {
   "cell_type": "code",
   "execution_count": null,
   "metadata": {
    "jupyter": {
     "outputs_hidden": false
    }
   },
   "outputs": [],
   "source": []
  },
  {
   "cell_type": "markdown",
   "metadata": {},
   "source": [
    "Note that in the list of teams some player actually played for two different teams in the same year.\n",
    "\n",
    "I need you to replace   ``Team1/Team2`` with ``Team1``."
   ]
  },
  {
   "cell_type": "code",
   "execution_count": null,
   "metadata": {
    "jupyter": {
     "outputs_hidden": false
    }
   },
   "outputs": [],
   "source": []
  },
  {
   "cell_type": "markdown",
   "metadata": {},
   "source": [
    "Recompute the FULL_TEAM column"
   ]
  },
  {
   "cell_type": "code",
   "execution_count": null,
   "metadata": {
    "jupyter": {
     "outputs_hidden": false
    }
   },
   "outputs": [],
   "source": []
  },
  {
   "cell_type": "markdown",
   "metadata": {},
   "source": [
    "Separate the first and the last name of each player in two separate columns, \n",
    "then drop the original one.\n"
   ]
  },
  {
   "cell_type": "code",
   "execution_count": null,
   "metadata": {
    "jupyter": {
     "outputs_hidden": false
    }
   },
   "outputs": [],
   "source": []
  },
  {
   "cell_type": "markdown",
   "metadata": {},
   "source": [
    "Make the column `3P%` a discrete value -- apply any binning strategy.\n",
    "\n",
    "There must be at least 4 categories: ``(SHARP_SHOOTER > SHOOTER > BLIND_AS_A_BAT > BETTER_GET_CLOSER)``"
   ]
  },
  {
   "cell_type": "code",
   "execution_count": null,
   "metadata": {
    "jupyter": {
     "outputs_hidden": false
    }
   },
   "outputs": [],
   "source": []
  },
  {
   "cell_type": "markdown",
   "metadata": {},
   "source": [
    "Check the number of elements within each bin"
   ]
  },
  {
   "cell_type": "code",
   "execution_count": null,
   "metadata": {
    "jupyter": {
     "outputs_hidden": false
    }
   },
   "outputs": [],
   "source": []
  },
  {
   "cell_type": "markdown",
   "metadata": {},
   "source": [
    "Encode the previous column as a one-hot-ecoding vector.\n",
    "Replace the new vector with the the original column."
   ]
  },
  {
   "cell_type": "code",
   "execution_count": null,
   "metadata": {
    "jupyter": {
     "outputs_hidden": false
    }
   },
   "outputs": [],
   "source": []
  },
  {
   "cell_type": "markdown",
   "metadata": {},
   "source": [
    "Create a new data frame (df1) which contains only the columns `TEAM`, `SALARY_MILLIONS`, `POSITION`.\n",
    "\n",
    "Then define a MultiIndex object (`TEAM`, `POSITION`) sorted in ascending order wrt the `POSITION`."
   ]
  },
  {
   "cell_type": "code",
   "execution_count": null,
   "metadata": {
    "jupyter": {
     "outputs_hidden": false
    }
   },
   "outputs": [],
   "source": []
  },
  {
   "cell_type": "markdown",
   "metadata": {},
   "source": [
    "---\n",
    "Let's load another dataset"
   ]
  },
  {
   "cell_type": "code",
   "execution_count": 38,
   "metadata": {
    "jupyter": {
     "outputs_hidden": false
    }
   },
   "outputs": [
    {
     "data": {
      "text/html": [
       "<div>\n",
       "<style scoped>\n",
       "    .dataframe tbody tr th:only-of-type {\n",
       "        vertical-align: middle;\n",
       "    }\n",
       "\n",
       "    .dataframe tbody tr th {\n",
       "        vertical-align: top;\n",
       "    }\n",
       "\n",
       "    .dataframe thead th {\n",
       "        text-align: right;\n",
       "    }\n",
       "</style>\n",
       "<table border=\"1\" class=\"dataframe\">\n",
       "  <thead>\n",
       "    <tr style=\"text-align: right;\">\n",
       "      <th></th>\n",
       "      <th>TEAM</th>\n",
       "      <th>VALUE_MILLIONS</th>\n",
       "    </tr>\n",
       "  </thead>\n",
       "  <tbody>\n",
       "    <tr>\n",
       "      <th>0</th>\n",
       "      <td>New York Knicks</td>\n",
       "      <td>3300.0</td>\n",
       "    </tr>\n",
       "    <tr>\n",
       "      <th>1</th>\n",
       "      <td>Los Angeles Lakers</td>\n",
       "      <td>3000.0</td>\n",
       "    </tr>\n",
       "    <tr>\n",
       "      <th>2</th>\n",
       "      <td>Golden State Warriors</td>\n",
       "      <td>2600.0</td>\n",
       "    </tr>\n",
       "    <tr>\n",
       "      <th>3</th>\n",
       "      <td>Chicago Bulls</td>\n",
       "      <td>2500.0</td>\n",
       "    </tr>\n",
       "    <tr>\n",
       "      <th>4</th>\n",
       "      <td>Boston Celtics</td>\n",
       "      <td>2200.0</td>\n",
       "    </tr>\n",
       "  </tbody>\n",
       "</table>\n",
       "</div>"
      ],
      "text/plain": [
       "                    TEAM  VALUE_MILLIONS\n",
       "0        New York Knicks          3300.0\n",
       "1     Los Angeles Lakers          3000.0\n",
       "2  Golden State Warriors          2600.0\n",
       "3          Chicago Bulls          2500.0\n",
       "4         Boston Celtics          2200.0"
      ]
     },
     "execution_count": 38,
     "metadata": {},
     "output_type": "execute_result"
    }
   ],
   "source": [
    "dfteam = pd.read_csv(Data('nba_team_valuations.csv'))\n",
    "dfteam.head()"
   ]
  },
  {
   "cell_type": "markdown",
   "metadata": {},
   "source": [
    "Merge the two dataset on the TEAM column "
   ]
  },
  {
   "cell_type": "code",
   "execution_count": null,
   "metadata": {
    "jupyter": {
     "outputs_hidden": false
    }
   },
   "outputs": [],
   "source": []
  },
  {
   "cell_type": "markdown",
   "metadata": {},
   "source": [
    "Extend the dfteam dataframe with the following information:\n",
    "\n",
    "1. number of player per team\n",
    "2. total amoun of salary\n",
    "3. the name of the player with the hihest salary (see idxmax function)\n",
    "4. the gap between the richest and the poorest player in the same team\n",
    "5. the total amount of point per game considering every player in the team\n",
    "6. the name of the youngest player for every team"
   ]
  }
 ],
 "metadata": {
  "kernelspec": {
   "display_name": "Python 3",
   "language": "python",
   "name": "python3"
  },
  "language_info": {
   "codemirror_mode": {
    "name": "ipython",
    "version": 3
   },
   "file_extension": ".py",
   "mimetype": "text/x-python",
   "name": "python",
   "nbconvert_exporter": "python",
   "pygments_lexer": "ipython3",
   "version": "3.9.2"
  },
  "name": "nba_notebook.ipynb"
 },
 "nbformat": 4,
 "nbformat_minor": 4
}
